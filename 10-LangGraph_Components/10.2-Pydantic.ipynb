{
 "cells": [
  {
   "cell_type": "markdown",
   "id": "e54375e4",
   "metadata": {},
   "source": [
    "### 📚 What is Pydantic?\n",
    "\n",
    "•\t🔍 Pydantic is a popular data validation library in Python.\n",
    "\n",
    "•\t🧱 It allows you to define schemas using a class that inherits from BaseModel\n",
    "\n",
    "•\t⚠️ When you create a class using BaseModel, it will enforce the data types at runtime\n",
    "\n",
    "•\t🧪 This is better than TypedDict or dataclass, which don’t give runtime errors.\n"
   ]
  },
  {
   "cell_type": "code",
   "execution_count": 12,
   "id": "12312f8c",
   "metadata": {},
   "outputs": [
    {
     "data": {
      "image/jpeg": "[encoded data removed]",
      "text/plain": [
       "<IPython.core.display.Image object>"
      ]
     },
     "metadata": {},
     "output_type": "display_data"
    }
   ],
   "source": [
    "# 🔹 1. Import Required Libraries\n",
    "from langgraph.graph import StateGraph, START, END\n",
    "from IPython.display import Image, display\n",
    "\n",
    "from pydantic import BaseModel, StrictStr\n",
    "# •\t✅ StateGraph, START, END are from LangGraph.\n",
    "# •\t✅ BaseModel is from Pydantic – it helps in runtime validation.\n",
    "\n",
    "# 🔹 2. Create the State Schema with Pydantic\n",
    "class State(BaseModel):\n",
    "    name: StrictStr\n",
    "# •\t✅ This class defines our input state.\n",
    "# •\t✅ It says that name must be a string.\n",
    "# •\t🛑 If we pass anything else (like int), Pydantic will throw an error at runtime.\n",
    "\n",
    "# 🔹 3. Define a Node Function\n",
    "def example_node(state: State):\n",
    "    return {\"message\": f\"Hello {state.name}\"}\n",
    "# •\t🧠 This is a simple node that:\n",
    "# o\tTakes the state\n",
    "# o\tAccesses state.name\n",
    "# o\tReturns a greeting message\n",
    "\n",
    "# 🔹 4. Build the LangGraph\n",
    "builder = StateGraph(State)\n",
    "builder.add_node(\"example_node\", example_node)\n",
    "builder.add_edge(START, \"example_node\")\n",
    "builder.add_edge(\"example_node\", END)\n",
    "graph = builder.compile()\n",
    "# •\t✅ We initialize the graph with our Pydantic state\n",
    "# •\t✅ Add one node: \"example_node\"\n",
    "# •\t🔁 Connect:\n",
    "# o\tSTART ➡️ example_node\n",
    "# o\texample_node ➡️ END\n",
    "\n",
    "display(Image(graph.get_graph().draw_mermaid_png()))\n",
    "\n",
    "\n",
    "\n"
   ]
  },
  {
   "cell_type": "code",
   "execution_count": 17,
   "id": "d77c6035",
   "metadata": {},
   "outputs": [
    {
     "name": "stdout",
     "output_type": "stream",
     "text": [
      "❌ Validation Error:\n",
      "1 validation error for State\n",
      "name\n",
      "  Input should be a valid string [type=string_type, input_value=123, input_type=int]\n",
      "    For further information visit https://errors.pydantic.dev/2.11/v/string_type\n"
     ]
    },
    {
     "name": "stderr",
     "output_type": "stream",
     "text": [
      "C:\\Users\\sahus\\AppData\\Local\\Temp\\ipykernel_17484\\1461785544.py:16: PydanticDeprecatedSince20: The `parse_obj` method is deprecated; use `model_validate` instead. Deprecated in Pydantic V2.0 to be removed in V3.0. See Pydantic V2 Migration Guide at https://errors.pydantic.dev/2.11/migration/\n",
      "  validated_state = State.parse_obj({\"name\": 123})\n"
     ]
    }
   ],
   "source": [
    "# 🔹 5. Invoke the Graph with Correct Input ✅\n",
    "# output = graph.invoke({\"name\": \"Apoorv\"})\n",
    "# print(output)\n",
    "# {'name': 'Apoorv'}\n",
    "\n",
    "\n",
    "# •\t✅ Input name = \"Apoorv\" is a string, so the graph runs fine.\n",
    "# •\t💬 Output will be:\n",
    "# •\t{'message': 'Hello Apoorv'}\n",
    "\n",
    "# 🔹 6. Invoke with Invalid Input ❌\n",
    "from pydantic import ValidationError\n",
    "\n",
    "try:\n",
    "    # ✅ Force validation before invoking graph\n",
    "    validated_state = State.parse_obj({\"name\": 123})\n",
    "    output = graph.invoke(validated_state)\n",
    "    print(output)\n",
    "except ValidationError as e:\n",
    "    print(\"❌ Validation Error:\")\n",
    "    print(e)\n",
    "\n",
    "# •\t❌ Now we give an integer instead of a string.\n",
    "# •\t❗ Because we’re using Pydantic, it will raise a runtime error like:\n",
    "# ValidationError: 1 validation error for State\n",
    "# name\n",
    "#   str type expected (type=type_error.str)\n",
    "# •\t✅ This is the power of Pydantic – catching errors early!\n"
   ]
  }
 ],
 "metadata": {
  "kernelspec": {
   "display_name": "venv",
   "language": "python",
   "name": "python3"
  },
  "language_info": {
   "codemirror_mode": {
    "name": "ipython",
    "version": 3
   },
   "file_extension": ".py",
   "mimetype": "text/x-python",
   "name": "python",
   "nbconvert_exporter": "python",
   "pygments_lexer": "ipython3",
   "version": "3.12.11"
  }
 },
 "nbformat": 4,
 "nbformat_minor": 5
}
