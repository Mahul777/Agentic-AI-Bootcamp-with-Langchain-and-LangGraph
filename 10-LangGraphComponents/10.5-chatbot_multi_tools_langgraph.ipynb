{
 "cells": [
  {
   "cell_type": "markdown",
   "id": "bf7e1ba4",
   "metadata": {},
   "source": [
    "### 🧠 Goal / Aim\n",
    "\n",
    "➤ Create a chatbot that can use multiple tools to give answers.\n",
    "\n",
    "➤ These tools will include:\n",
    "\n",
    "•\t📝 Wikipedia – For general info.\n",
    "\n",
    "•\t📚 arXiv – For research paper-related info.\n",
    "\n",
    "•\t🌐 Internet Search (Tabby API) – For latest news or real-time information.\n",
    "\n",
    "•\t➕ Custom Functions – Like Add or Multiply.\n",
    "\n",
    "➤ Use LangGraph (a part of LangChain) to create this chatbot where LLM decides which tool to use.\n"
   ]
  },
  {
   "cell_type": "code",
   "execution_count": null,
   "id": "0bc6cc18",
   "metadata": {},
   "outputs": [
    {
     "name": "stdout",
     "output_type": "stream",
     "text": [
      "arxiv\n"
     ]
    },
    {
     "data": {
      "text/plain": [
       "\"Published: 2024-07-22\\nTitle: Attention Is All You Need But You Don't Need All Of It For Inference of Large Language Models\\nAuthors: Georgy Tyukin, Gbetondji J-S Dovonon, Jean Kaddour, Pasquale Minervini\\nSummary: The inference demand for LLMs has skyrocketed in recent months, and serving\\nmodels with low latencies remains challenging due to the quadratic input length\\ncomplexity of the attention layers. In this work, we investigate the effect of\\ndropping MLP and attention layers at inference time o\""
      ]
     },
     "execution_count": 6,
     "metadata": {},
     "output_type": "execute_result"
    }
   ],
   "source": [
    "from langchain_community.tools import ArxivQueryRun,WikipediaQueryRun\n",
    "from langchain_community.utilities import WikipediaAPIWrapper,ArxivAPIWrapper\n",
    "\n",
    "api_wrapper_arxiv=ArxivAPIWrapper(top_k_results=2,doc_content_chars_max=500)\n",
    "arxiv=ArxivQueryRun(api_wrapper=api_wrapper_arxiv)\n",
    "print(arxiv.name)\n",
    "# arxiv\n",
    "arxiv.invoke(\"Attention iss all you need\")\n",
    "# \"Published: 2024-07-22\\nTitle: Attention Is All You Need But You Don't Need All Of It For Inference of Large Language Models\\nAuthors: Georgy Tyukin, Gbetondji J-S Dovonon, Jean Kaddour, Pasquale Minervini\\nSummary: The inference demand for LLMs has skyrocketed in recent months, and serving\\nmodels with low latencies remains challenging due to the quadratic input length\\ncomplexity of the attention layers. In this work, we investigate the effect of\\ndropping MLP and attention layers at inference time o\"\n",
    "\n",
    "api_wrapper_wiki=WikipediaAPIWrapper(top_k_results=1,doc_content_chars_max=500)\n",
    "wiki=WikipediaQueryRun(api_wrapper=api_wrapper_wiki)\n",
    "wiki.name\n",
    "# 'wikipedia'\n",
    "wiki.invoke(\"What is machine learning\")\n",
    "# 'Page: Machine learning\\nSummary: Machine learning (ML) is a field of study in artificial intelligence concerned with the development and study of statistical algorithms that can learn from data and generalise to unseen data, and thus perform tasks without explicit instructions. Within a subdiscipline in machine learning, advances in the field of deep learning have allowed neural networks, a class of statistical algorithms, to surpass many previous machine learning approaches in performance.\\nML fi'\n",
    "\n",
    "from dotenv import load_dotenv\n",
    "load_dotenv()\n",
    "\n",
    "import os\n",
    "\n",
    "os.environ[\"TAVILY_API_KEY\"]=os.getenv(\"TABELLAE_API_KEY\")\n",
    "os.environ[\"GROQ_API_KEY\"]=os.getenv(\"GROQ_API_KEY\")\n",
    "\n",
    "### Tavily Search Tool\n",
    "from langchain_community.tools.tavily_search import TavilySearchResults\n",
    "\n",
    "tavily = TavilySearchResults()\n",
    "tavily.invoke(\"Provide me the recent AI news for march 3rd 2025\")\n",
    "# [{'url': 'https://podcasts.apple.com/ca/podcast/ai-daily-news-march-03-2025-nvidia-ceo-us-ai-chips/id1684415169?i=1000697521476',\n",
    "#   'content': \"AI Unraveled: Latest AI News & Trends, ChatGPT, Gemini, DeepSeek, Gen AI, LLMs, AI Ethics & Bias\\n\\n# AI Daily News March 03 2025: 🚀 Nvidia CEO: US AI Chips Are 60x Faster Than China’s 🍏Apple's Siri Overhaul Facing Major Delays 🎙️New AI Voice to Cross ‘Uncanny Valley’ 🎥Sora Video AI Coming to ChatGPT 🧪AI Detects Colorect [...] Nvidia claims a significant lead in AI chip speed over China, while Apple faces delays in its Siri AI overhaul. New AI applications are emerging, including highly realistic voice generation, automated resume screening, and AI cardiologists in China.OpenAI plans to integrate Sora video AI into ChatGPT, and large investments are being made in AI by companies like Honor and SoftBank. AI is also showing promise in healthcare with tools for cancer detection and improved patient care, but concerns [...] exist about algorithmic bias and the financial sustainability of some AI models. Finally, AI is anticipated to surpass human coding abilities, with models like Claude being evaluated for scientific and national security purposes and Samsung launching AI-powered devices to rival Apple.\"},\n",
    "#  {'url': 'https://www.neudesic.com/blog/top-5-ai-trends-march-2025/',\n",
    "#   'content': 'March 2025 has brought a fresh wave of AI innovations that go beyond theoretical breakthroughs and translate directly into real-world impact. From OpenAI’s newly released tools for building AI agents to Microsoft’s external knowledge integration approach, this month’s highlights underscore how artificial intelligence is evolving in ways that matter today, not just tomorrow. Whether it’s optimizing supply chains, pushing the limits of robotics, or making AI systems smarter and more trustworthy, [...] Below, we delve into five top AI trends from March 2025 and explore the practical ways they’re changing industries—from retail to robotics—and setting the stage for what’s ahead. \\n\\n## 1. OpenAI Releases New Tools for Building AI Agents [...] This month’s advancements in AI reinforce a clear trajectory: artificial intelligence is no longer just a tool for automation—it’s becoming an essential collaborator in research, business, and even the physical world. As AI systems grow more capable, intuitive, and embedded in enterprise and consumer applications, the focus shifts from innovation alone to strategic implementation. Organizations that adapt to this shift will be best positioned to harness AI’s full potential, while those who lag'},\n",
    "#  {'url': 'https://medium.com/nlplanet/gpt-4-5-is-out-weekly-ai-newsletter-march-3rd-2025-6b31dd83ca60',\n",
    "#   'content': 'Sign up\\n\\nSign in\\n\\nSign up\\n\\nSign in\\n\\n## Generative AI\\n\\nGenerative AI\\n\\nExplanations of AI, machine learning, news, guides, courses, papers, and more.\\n\\n# GPT 4.5 is out! — Weekly AI Newsletter (March 3rd 2025)\\n\\n## Anthropic releases Claude 3.7 Sonnet, OpenAI expands Deep Research for Plus users, and Google launches new code assistant\\n\\nFabio Chiusano\\n\\n--\\n\\nListen\\n\\nShare\\n\\n## 😎 News From The Web\\n\\n## 📚 Guides From The Web\\n\\n## 🔬 Interesting Papers and Repositories\\n\\n## ✨ Extra Content [...] Thank you for reading!\\n\\n--\\n\\n--\\n\\nGenerative AI\\nGenerative AI\\n\\n## Published in Generative AI\\n\\nExplanations of AI, machine learning, news, guides, courses, papers, and more.\\n\\nFabio Chiusano\\nFabio Chiusano\\n\\n## Written by Fabio Chiusano\\n\\nI write about Artificial Intelligence news, guides, courses, papers, and more.\\n\\n## No responses yet\\n\\nHelp\\n\\nStatus\\n\\nAbout\\n\\nCareers\\n\\nPress\\n\\nBlog\\n\\nPrivacy\\n\\nRules\\n\\nTerms\\n\\nText to speech'},\n",
    "#  {'url': 'https://theaitrack.com/ai-news-march-2025-in-depth-and-concise/',\n",
    "#   'content': \"The AI Track\\nThe AI Track\\nThe AI Track\\nThe AI Track\\n\\n# AI News March 2025: In-Depth and Concise\\n\\n## Welcome to The AI Track's comprehensive monthly roundup of the latest AI news!\\n\\nEach month, we compile significant news, trends, and happenings in AI, providing detailed summaries with key points in bullet form for concise yet complete understanding. [...] #### Google Launches Gemini 2.5 Pro with Enhanced Reasoning and Multimodal Capabilities\\n\\nGoogle’s Gemini 2.5 Pro introduces advanced reasoning and multimodal processing, achieving top scores in coding, mathematics, and science benchmarks, and supporting a 1 million token context window.\\n\\nGPT-4o Image Generator Achieves Startling Realism - Credit - OpenAI\\nGPT-4o Image Generator Achieves Startling Realism - Credit - OpenAI [...] Alibaba introduced Qwen2.5-Omni-7B, a multimodal AI capable of processing text, images, audio, and video efficiently on smartphones and laptops, outperforming Google’s Gemini model in benchmarks.\\n\\nIdeogram 3.0 Launch - Credit - Ideogram\\nIdeogram 3.0 Launch - Credit - Ideogram\\n\\n#### Ideogram 3.0 Launch: Stunning Realism and Creative Power Unleashed\"},\n",
    "#  {'url': 'https://blog.google/technology/ai/google-ai-updates-march-2025/',\n",
    "#   'content': '# The latest AI news we announced in March\\n\\nApr 04, 2025\\n\\nHere’s a recap of some of our biggest AI updates from March, including Gemini 2.5 Pro, expanded access to AI Overviews, the release of AI Mode and more.\\n\\nSuperG\\n\\n## General summary [...] Google made significant progress in AI during March. They expanded access to AI Overviews and introduced AI Mode in Search, making it easier to find answers and explore topics. They also released Gemini 2.5 Pro, their most intelligent AI model, and Gemini Robotics, which aims to bring AI into the physical world. Google is also using AI to help developers create applications, detect wildfires, and protect nature.\\n\\n## Shakespeare-ish [...] Google made significant progress in AI during March. They expanded access to AI Overviews and introduced AI Mode in Search, making it easier to find answers and explore topics. They also released Gemini 2.5 Pro, their most intelligent AI model, and Gemini Robotics, which aims to bring AI into the physical world. Google is also using AI to help developers create applications, detect wildfires, and protect nature.'}]\n",
    "\n",
    "\n",
    "### Combine all the tools in the list\n",
    "\n",
    "tools=[arxiv,wiki,tavily]\n",
    "tools\n",
    "# [ArxivQueryRun(api_wrapper=ArxivAPIWrapper(arxiv_search=<class 'arxiv.Search'>, arxiv_exceptions=(<class 'arxiv.ArxivError'>, <class 'arxiv.UnexpectedEmptyPageError'>, <class 'arxiv.HTTPError'>), top_k_results=2, ARXIV_MAX_QUERY_LENGTH=300, continue_on_failure=False, load_max_docs=100, load_all_available_meta=False, doc_content_chars_max=500, arxiv_result=<class 'arxiv.Result'>)),\n",
    "#  WikipediaQueryRun(api_wrapper=WikipediaAPIWrapper(wiki_client=<module 'wikipedia' from 'c:\\\\Users\\\\sahus\\\\OneDrive\\\\Desktop\\\\Complete AgenticAI\\\\venv\\\\Lib\\\\site-packages\\\\wikipedia\\\\__init__.py'>, top_k_results=1, lang='en', load_all_available_meta=False, doc_content_chars_max=500)),\n",
    "#  TavilySearchResults()]\n",
    "\n",
    "## Initialize my LLM model\n",
    "\n",
    "from langchain_groq import ChatGroq\n",
    "\n",
    "llm = ChatGroq(model=\"llama-3.3-70b-versatile\")  # Works as of 2025‑09‑09\n",
    "llm_with_tools = llm.bind_tools(tools)\n",
    "\n",
    "from langchain_core.messages import HumanMessage\n",
    "response = llm_with_tools.invoke([HumanMessage(content=\"What is the recent AI news?\")])\n",
    "\n",
    "print(response)\n",
    "# content='' additional_kwargs={'tool_calls': [{'id': '7kn37qk0t', 'function': {'arguments': '{\"query\":\"recent AI news\"}', 'name': 'tavily_search_results_json'}, 'type': 'function'}]} response_metadata={'token_usage': {'completion_tokens': 20, 'prompt_tokens': 554, 'total_tokens': 574, 'completion_time': 0.048374226, 'prompt_time': 0.067501888, 'queue_time': 0.047859421, 'total_time': 0.115876114}, 'model_name': 'llama-3.3-70b-versatile', 'system_fingerprint': 'fp_3f3b593e33', 'finish_reason': 'tool_calls', 'logprobs': None} id='run-66fe53cd-8e5a-4088-b95a-c6cc98ceac62-0' tool_calls=[{'name': 'tavily_search_results_json', 'args': {'query': 'recent AI news'}, 'id': '7kn37qk0t', 'type': 'tool_call'}] usage_metadata={'input_tokens': 554, 'output_tokens': 20, 'total_tokens': 574}\n",
    "\n",
    "llm_with_tools.invoke([HumanMessage(content=f\"What is the recent AI News\")]).tool_calls\n",
    "# [{'name': 'tavily_search_results_json',\n",
    "#   'args': {'query': 'recent AI news'},\n",
    "#   'id': 'y89qv4sh9',\n",
    "#   'type': 'tool_call'}]\n",
    "\n",
    "## State Schema\n",
    "from typing_extensions import TypedDict\n",
    "from langchain_core.messages import AnyMessage\n",
    "from typing import Annotated\n",
    "from langgraph.graph.message import add_messages\n",
    "class State(TypedDict):\n",
    "    messages:Annotated[list[AnyMessage],add_messages]"
   ]
  },
  {
   "cell_type": "code",
   "execution_count": 33,
   "id": "d9528264",
   "metadata": {},
   "outputs": [
    {
     "name": "stderr",
     "output_type": "stream",
     "text": [
      "c:\\Users\\sahus\\OneDrive\\Desktop\\Complete AgenticAI\\venv\\Lib\\site-packages\\pydantic\\_internal\\_generate_schema.py:918: UserWarning: Mixing V1 models and V2 models (or constructs, like `TypeAdapter`) is not supported. Please upgrade `BaseMessage` to V2.\n",
      "  warn(\n"
     ]
    },
    {
     "data": {
      "image/jpeg": "[encoded data removed]",
      "text/plain": [
       "<IPython.core.display.Image object>"
      ]
     },
     "metadata": {},
     "output_type": "display_data"
    }
   ],
   "source": [
    "### Entire Chatbot With LangGraph\n",
    "from IPython.display import Image, display\n",
    "from langgraph.graph import StateGraph, START, END\n",
    "from langgraph.prebuilt import ToolNode\n",
    "from langgraph.prebuilt import tools_condition\n",
    "\n",
    "### Node definition\n",
    "def tool_calling_llm(state:State):\n",
    "    return {\"messages\":[llm_with_tools.invoke(state[\"messages\"])]}\n",
    "\n",
    "# Build graph\n",
    "builder = StateGraph(State)\n",
    "builder.add_node(\"tool_calling_llm\", tool_calling_llm)\n",
    "builder.add_node(\"tools\", ToolNode(tools))\n",
    "\n",
    "builder.add_edge(START, \"tool_calling_llm\")\n",
    "builder.add_conditional_edges(\n",
    "    \"tool_calling_llm\",\n",
    "    # If the latest message (result) from assistant is a tool call -> tools_condition routes to tools\n",
    "    # If the latest message (result) from assistant is a not a tool call -> tools_condition routes to END\n",
    "    tools_condition,\n",
    ")\n",
    "builder.add_edge(\"tools\", END)\n",
    "\n",
    "\n",
    "graph = builder.compile()\n",
    "\n",
    "# View\n",
    "display(Image(graph.get_graph().draw_mermaid_png()))"
   ]
  },
  {
   "cell_type": "code",
   "execution_count": 34,
   "id": "3c57c8f7",
   "metadata": {},
   "outputs": [
    {
     "name": "stdout",
     "output_type": "stream",
     "text": [
      "================================\u001b[1m Human Message \u001b[0m=================================\n",
      "\n",
      "1706.03762\n",
      "==================================\u001b[1m Ai Message \u001b[0m==================================\n",
      "Tool Calls:\n",
      "  arxiv (59xdxrdbf)\n",
      " Call ID: 59xdxrdbf\n",
      "  Args:\n",
      "    query: 1706.03762\n",
      "=================================\u001b[1m Tool Message \u001b[0m=================================\n",
      "Name: arxiv\n",
      "\n",
      "Published: 2023-08-02\n",
      "Title: Attention Is All You Need\n",
      "Authors: Ashish Vaswani, Noam Shazeer, Niki Parmar, Jakob Uszkoreit, Llion Jones, Aidan N. Gomez, Lukasz Kaiser, Illia Polosukhin\n",
      "Summary: The dominant sequence transduction models are based on complex recurrent or\n",
      "convolutional neural networks in an encoder-decoder configuration. The best\n",
      "performing models also connect the encoder and decoder through an attention\n",
      "mechanism. We propose a new simple network architecture, the Transformer, base\n"
     ]
    }
   ],
   "source": [
    "messages=graph.invoke({\"messages\":HumanMessage(content=\"1706.03762\")})\n",
    "for m in messages['messages']:\n",
    "    m.pretty_print()"
   ]
  },
  {
   "cell_type": "code",
   "execution_count": 35,
   "id": "2170d4c8",
   "metadata": {},
   "outputs": [
    {
     "name": "stdout",
     "output_type": "stream",
     "text": [
      "================================\u001b[1m Human Message \u001b[0m=================================\n",
      "\n",
      "Provide me the top 10 recent AI news for MArch 3rd 2025\n",
      "==================================\u001b[1m Ai Message \u001b[0m==================================\n",
      "Tool Calls:\n",
      "  tavily_search_results_json (m4wzhr4pb)\n",
      " Call ID: m4wzhr4pb\n",
      "  Args:\n",
      "    query: top 10 recent AI news March 3rd 2025\n",
      "=================================\u001b[1m Tool Message \u001b[0m=================================\n",
      "Name: tavily_search_results_json\n",
      "\n",
      "[{\"url\": \"https://www.neudesic.com/blog/top-5-ai-trends-march-2025/\", \"content\": \"March 2025 has brought a fresh wave of AI innovations that go beyond theoretical breakthroughs and translate directly into real-world impact. From OpenAI’s newly released tools for building AI agents to Microsoft’s external knowledge integration approach, this month’s highlights underscore how artificial intelligence is evolving in ways that matter today, not just tomorrow. Whether it’s optimizing supply chains, pushing the limits of robotics, or making AI systems smarter and more trustworthy, [...] Below, we delve into five top AI trends from March 2025 and explore the practical ways they’re changing industries—from retail to robotics—and setting the stage for what’s ahead. \\n\\n## 1. OpenAI Releases New Tools for Building AI Agents [...] ## 3. Neudesic’s AI-Powered Supply Chain Control Tower\"}, {\"url\": \"https://yukitaylor00.medium.com/ai-weekly-top-10-ai-breakthroughs-you-missed-this-week-march-2025-1d742259e5b8\", \"content\": \"Sign up\\n\\nSign in\\n\\nSign up\\n\\nSign in\\n\\n# [AI Weekly] Top 10 AI Breakthroughs You Missed This Week (March 2025)\\n\\n## Explore this week’s most exciting AI news — from OpenAI’s new image generator to Google Gemini 2.5 and Alibaba’s 3D avatar model. A must-read for AI professionals.\\n\\nYuki\\n\\n--\\n\\nListen\\n\\nShare\\n\\n## What a Week in AI: March 2025 Breakthroughs from OpenAI, Google, Alibaba, and More [...] The final week of March 2025 may be remembered as a turning point in AI development history. A wave of releases from OpenAI, Google, Alibaba, Microsoft, and emerging players introduced groundbreaking advances across image generation, AGI benchmarking, multimodal models, and research automation. The sheer breadth and impact of these announcements reflect a rapidly accelerating pace in the AI race, with serious implications for developers, creators, and enterprises alike. [...] The tight coupling of text, vision, and editing features marks a new milestone in multimodal fluency, where the AI doesn’t just interpret prompts — it becomes a creative partner.\\n\\n## Final Thoughts: March 2025 Will Be Remembered\"}, {\"url\": \"https://digitopia.co/blog/top-10-in-tech-march-2025/\", \"content\": \"Alibaba Cloud has launched “Qwen2.5-Omni-7B,” a powerful multimodal AI model that processes text, images, audio, and video, offering real-time text and speech responses. Designed for edge devices, it supports cost-effective AI agents like voice assistants and is open-sourced on Hugging Face and GitHub. This release comes amid a surge in China’s generative AI competition, sparked by DeepSeek’s open-source momentum. Alibaba is investing $53 billion over three years in AI and cloud infrastructure, [...] McDonald’s is modernizing its 43,000 restaurants with AI and edge computing to improve order accuracy, reduce equipment failures, and enhance staff and customer experiences. Partnering with Google Cloud, the company is deploying sensors and AI tools to monitor kitchen operations, predict maintenance issues, and enable voice AI at drive-throughs. It’s also developing a generative AI virtual manager to assist with tasks like scheduling. These efforts aim to boost efficiency, reduce stress for [...] A new report by the UK’s Public Accounts Committee warns that the government’s push to integrate AI across public services is threatened by outdated IT systems, poor data quality, and a shortage of skilled staff. Nearly a third of central government IT systems are considered obsolete, with over 20 yet to receive upgrade funding. Despite the Starmer government’s emphasis on AI to boost growth and public service efficiency, including plans for rapid AI pilots and 2,000 tech apprenticeships, the\"}, {\"url\": \"https://blog.google/technology/ai/google-ai-updates-march-2025/\", \"content\": \"# The latest AI news we announced in March\\n\\nApr 04, 2025\\n\\nHere’s a recap of some of our biggest AI updates from March, including Gemini 2.5 Pro, expanded access to AI Overviews, the release of AI Mode and more.\\n\\nSuperG\\n\\n## General summary [...] Google made significant progress in AI during March. They expanded access to AI Overviews and introduced AI Mode in Search, making it easier to find answers and explore topics. They also released Gemini 2.5 Pro, their most intelligent AI model, and Gemini Robotics, which aims to bring AI into the physical world. Google is also using AI to help developers create applications, detect wildfires, and protect nature. [...] Google made significant progress in AI during March. They expanded access to AI Overviews and introduced AI Mode in Search, making it easier to find answers and explore topics. They also released Gemini 2.5 Pro, their most intelligent AI model, and Gemini Robotics, which aims to bring AI into the physical world. Google is also using AI to help developers create applications, detect wildfires, and protect nature.\\n\\n## Shakespeare-ish\"}, {\"url\": \"https://theaitrack.com/ai-news-march-2025-in-depth-and-concise/\", \"content\": \"Meta’s AI-generated Instagram comments and engineered “diverse” profiles have drawn criticism for prioritizing metrics over authenticity, with users comparing the initiatives to dystopian fiction.\\n\\nGoogle Launches Gemini 2.5 Pro with Enhanced Reasoning and Multimodal Capabilities - Credit - Google, Flux\\nGoogle Launches Gemini 2.5 Pro with Enhanced Reasoning and Multimodal Capabilities - Credit - Google, Flux [...] Google Launches Gemini 2.5 Flash Image for Advanced Editing and Generation\\n Google Expands NotebookLM’s Video Overviews in 80 Languages\\n Elon Musk’s xAI open-sources Grok 2.5, pledges Grok 3 in six months\\n Meta Partners with Midjourney to License AI Image and Video Tech [...] Anthropic will Pay $1.5 Billion in Landmark AI Book Piracy Settlement\\n OpenAI Jobs Platform Set to Launch in 2026 to Rival LinkedIn\\n Switzerland Releases Apertus, a National Open-Source AI Model\\n Microsoft Launches MAI Models as Partnership with OpenAI Faces Strain\\n OpenAI and Anthropic Cross-Evaluate AI Models for Safety, Alignment, and Misuse Resistance\\n Google Adds Live Translation and Language Learning Tools in Google Translate\"}]\n"
     ]
    }
   ],
   "source": [
    "messages=graph.invoke({\"messages\":HumanMessage(content=\"Provide me the top 10 recent AI news for MArch 3rd 2025\")})\n",
    "for m in messages['messages']:\n",
    "    m.pretty_print()"
   ]
  },
  {
   "cell_type": "code",
   "execution_count": 36,
   "id": "7d52f822",
   "metadata": {},
   "outputs": [
    {
     "name": "stdout",
     "output_type": "stream",
     "text": [
      "================================\u001b[1m Human Message \u001b[0m=================================\n",
      "\n",
      "What is machine learning\n",
      "==================================\u001b[1m Ai Message \u001b[0m==================================\n",
      "\n",
      "<function=wikipedia{\"query\": \"machine learning\"}</function>\n"
     ]
    }
   ],
   "source": [
    "messages=graph.invoke({\"messages\":HumanMessage(content=\"What is machine learning\")})\n",
    "for m in messages['messages']:\n",
    "    m.pretty_print()"
   ]
  }
 ],
 "metadata": {
  "kernelspec": {
   "display_name": "venv",
   "language": "python",
   "name": "python3"
  },
  "language_info": {
   "codemirror_mode": {
    "name": "ipython",
    "version": 3
   },
   "file_extension": ".py",
   "mimetype": "text/x-python",
   "name": "python",
   "nbconvert_exporter": "python",
   "pygments_lexer": "ipython3",
   "version": "3.12.11"
  }
 },
 "nbformat": 4,
 "nbformat_minor": 5
}
