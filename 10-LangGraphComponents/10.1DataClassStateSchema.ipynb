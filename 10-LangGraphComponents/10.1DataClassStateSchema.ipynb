{
 "cells": [
  {
   "cell_type": "markdown",
   "id": "5e89d9e2",
   "metadata": {},
   "source": [
    "### ✅ Overview\n",
    "\n",
    "🔹 The goal of this explanation is to show different ways to create state schemas using:\n",
    "\n",
    "•\tTypedDict\n",
    "\n",
    "•\tdataclass\n",
    "\n",
    "🔹 These are used when building workflows with tools like LangGraph, where states hold values that are updated \n",
    "\n",
    "as nodes (functions) run.\n",
    "\n",
    "🧩 What is a State Schema?\n",
    "\n",
    "➤ A state is like a data container that holds values such as user input or current game choice.\n",
    "\n",
    "➤ The state is passed through the nodes, and gets updated as each node executes.\n",
    "\n",
    "➤ You can define this schema in different ways, two of them being:\n",
    "\n",
    "•\t✅ Using TypedDict (from typing_extensions)\n",
    "\n",
    "•\t✅ Using dataclass (from dataclasses)\n"
   ]
  },
  {
   "cell_type": "markdown",
   "id": "2124cbeb",
   "metadata": {},
   "source": [
    "### 🧠 What is TypedDict?\n",
    "\n",
    "TypedDict is used to define a dictionary-like structure where you can specify key names and their expected data types.\n",
    "\n",
    "Comes from typing_extensions.\n",
    "\n",
    "These are type hints, not enforced at runtime.\n",
    "\n",
    "✅ Used for better code readability, IDE support, and type-checking tools."
   ]
  },
  {
   "cell_type": "code",
   "execution_count": null,
   "id": "0a57514f",
   "metadata": {},
   "outputs": [
    {
     "data": {
      "image/jpeg": "[encoded data removed]",
      "text/plain": [
       "<IPython.core.display.Image object>"
      ]
     },
     "metadata": {},
     "output_type": "display_data"
    }
   ],
   "source": [
    "# Dataclass State Schema using TypedDict\n",
    "\n",
    "# ✅ 1. Import necessary modules\n",
    "from typing_extensions import TypedDict\n",
    "from typing import Literal\n",
    "# ✅ TypedDict helps define a structure for state.\n",
    "# ✅ Literal is used to restrict a value to specific constants.\n",
    "\n",
    "# ✅ 2. Define the state using TypedDict\n",
    "class TypedDictState(TypedDict):\n",
    "    name: str\n",
    "    game: Literal[\"cricket\", \"badminton\"]\n",
    "# 🎯 This is our state schema.\n",
    "# name: can only be a str.\n",
    "# game: can only be \"cricket\" or \"badminton\".\n",
    "\n",
    "# ✅ 3. Define your node functions\n",
    "# These are functions that will be part of the graph.\n",
    "\n",
    "def play_game(state: TypedDictState):\n",
    "    print(\"Play game node has been called\")\n",
    "    return {\n",
    "        \"name\": state[\"name\"],\n",
    "        \"message\": f\"{state['name']} wants to play\" # Apoorv want to play\n",
    "    }\n",
    "# 🟩 cricket node\n",
    "def cricket(state: TypedDictState):\n",
    "    print(\"Cricket node has been called\")\n",
    "    return {\"game\": \"cricket\"}\n",
    "# 🟩 badminton node\n",
    "def badminton(state: TypedDict):\n",
    "    print(\"Badminton node has been called\")\n",
    "    return {\"game\": \"badminton\"}\n",
    "\n",
    "# ✅ 4. Decision node: decide_play\n",
    "import random\n",
    "\n",
    "def decide_play(state: TypedDictState) -> Literal[\"cricket\", \"badminton\"]:\n",
    "    if random.random() < 0.5:\n",
    "        return \"cricket\"\n",
    "    else:\n",
    "        return \"badminton\"\n",
    "# ✅ Randomly decides which game to play.\n",
    "# 🎯 Returns either \"cricket\" or \"badminton\".\n",
    "\n",
    "# ✅ 5. Create the Graph\n",
    "# from some_module import StateGraph, START, END\n",
    "from langgraph.graph import StateGraph, START, END\n",
    "from IPython.display import display,Image\n",
    "builder = StateGraph(TypedDictState)\n",
    "\n",
    "builder.add_node(\"play_game\", play_game)\n",
    "builder.add_node(\"cricket\", cricket)\n",
    "builder.add_node(\"badminton\", badminton)\n",
    "\n",
    "builder.add_edge(START, \"play_game\")\n",
    "builder.add_conditional_edges(\"play_game\", decide_play, {\n",
    "    \"cricket\": \"cricket\",\n",
    "    \"badminton\": \"badminton\"\n",
    "})\n",
    "builder.add_edge(\"cricket\", END)\n",
    "builder.add_edge(\"badminton\", END)\n",
    "\n",
    "graph = builder.compile()\n",
    "# ✅ We create a graph with 3 nodes.\n",
    "# ✅ Add conditional flow after play_game.\n",
    "# ✅ End the flow after cricket or badminton.\n",
    "\n",
    "# View the graph\n",
    "display(Image(graph.get_graph().draw_mermaid_png()))\n",
    "\n"
   ]
  },
  {
   "cell_type": "code",
   "execution_count": null,
   "id": "230e203f",
   "metadata": {},
   "outputs": [
    {
     "name": "stdout",
     "output_type": "stream",
     "text": [
      "Play game node has been called\n",
      "Cricket node has been called\n",
      "Play game node has been called\n",
      "Cricket node has been called\n"
     ]
    },
    {
     "data": {
      "text/plain": [
       "{'name': 123, 'game': 'cricket'}"
      ]
     },
     "execution_count": 7,
     "metadata": {},
     "output_type": "execute_result"
    }
   ],
   "source": [
    "# ✅ 6. Run the Graph\n",
    "graph.invoke({\"name\": \"Apoorv\"})\n",
    "# {'name': 'Apoorv', 'game': 'cricket'}\n",
    "\n",
    "# 🎯 Even though TypedDict expects name: str, if you do:\n",
    "graph.invoke({\"name\": 123})\n",
    "# {'name': '123', 'game': 'cricket'}\n",
    "\n",
    "# ❌ It will not raise an error unless there's string-specific operation (e.g., concatenation).\n",
    "# ⚠️ TypedDict is not enforced at runtime."
   ]
  },
  {
   "cell_type": "markdown",
   "id": "01516ffd",
   "metadata": {},
   "source": [
    "### ✅ State Schema using @dataclass\n",
    "🧠 What is dataclass?\n",
    "\n",
    "@dataclass is used to define a class for holding structured data.\n",
    "\n",
    "Comes from dataclasses.\n",
    "\n",
    "✅ Variables are accessed using dot notation (e.g., state.name).\n",
    "\n",
    "❌ Still not enforced at runtime (type hints only)."
   ]
  },
  {
   "cell_type": "code",
   "execution_count": 10,
   "id": "38f1d3fd",
   "metadata": {},
   "outputs": [
    {
     "data": {
      "image/jpeg": "[encoded data removed]",
      "text/plain": [
       "<IPython.core.display.Image object>"
      ]
     },
     "metadata": {},
     "output_type": "display_data"
    }
   ],
   "source": [
    "# ✅ Step 1: Imports\n",
    "from dataclasses import dataclass\n",
    "from typing import Literal\n",
    "import random\n",
    "\n",
    "# ✅ Step 2: Define the State schema using dataclass\n",
    "@dataclass\n",
    "class DataClassState:\n",
    "    name: str\n",
    "    game: Literal[\"cricket\", \"badminton\"]\n",
    "\n",
    "# ✅ Step 3: Node Functions\n",
    "\n",
    "# Play game node\n",
    "def play_game(state: DataClassState):\n",
    "    print(\"Play game node has been called\")\n",
    "    return {\n",
    "        \"name\": state.name,\n",
    "        \"message\": f\"{state.name} wants to play\"\n",
    "    }\n",
    "\n",
    "# Cricket node\n",
    "def cricket(state: DataClassState):\n",
    "    print(\"Cricket node has been called\")\n",
    "    return {\n",
    "        \"game\": \"cricket\",\n",
    "        \"message\": f\"{state.name} is playing cricket\"\n",
    "    }\n",
    "\n",
    "# Badminton node\n",
    "def badminton(state: DataClassState):\n",
    "    print(\"Badminton node has been called\")\n",
    "    return {\n",
    "        \"game\": \"badminton\",\n",
    "        \"message\": f\"{state.name} is playing badminton\"\n",
    "    }\n",
    "\n",
    "# ✅ Step 4: Decision Node (Conditional Logic)\n",
    "def decide_play(state: DataClassState) -> Literal[\"cricket\", \"badminton\"]:\n",
    "    if random.random() < 0.5:\n",
    "        return \"cricket\"\n",
    "    else:\n",
    "        return \"badminton\"\n",
    "\n",
    "# ✅ Step 5: Build the Graph\n",
    "\n",
    "# NOTE: This part assumes you're using a stateful graph system like LangGraph or custom implementation\n",
    "# Replace 'StateGraph', 'START', 'END' with your actual graph library elements\n",
    "from langgraph.graph import StateGraph, START, END\n",
    "\n",
    "# Create the graph with DataClassState\n",
    "builder = StateGraph(DataClassState)\n",
    "\n",
    "# Add nodes\n",
    "builder.add_node(\"play_game\", play_game)\n",
    "builder.add_node(\"cricket\", cricket)\n",
    "builder.add_node(\"badminton\", badminton)\n",
    "\n",
    "# Add edges\n",
    "builder.add_edge(START, \"play_game\")\n",
    "builder.add_conditional_edges(\"play_game\", decide_play, {\n",
    "    \"cricket\": \"cricket\",\n",
    "    \"badminton\": \"badminton\"\n",
    "})\n",
    "builder.add_edge(\"cricket\", END)\n",
    "builder.add_edge(\"badminton\", END)\n",
    "\n",
    "# Compile the graph\n",
    "graph = builder.compile()\n",
    "\n",
    "# View the graph\n",
    "display(Image(graph.get_graph().draw_mermaid_png()))\n",
    "\n",
    "\n",
    "\n"
   ]
  },
  {
   "cell_type": "code",
   "execution_count": null,
   "id": "22ea8db2",
   "metadata": {},
   "outputs": [
    {
     "name": "stdout",
     "output_type": "stream",
     "text": [
      "\n",
      "--- Run 3: Invalid name (int) ---\n",
      "Play game node has been called\n",
      "Cricket node has been called\n",
      "{'name': 123, 'game': 'cricket'}\n"
     ]
    }
   ],
   "source": [
    "# ✅ Step 6: Run the Graph\n",
    "\n",
    "# Option 1: Run with cricket\n",
    "print(\"\\n--- Run 1: With game='cricket' ---\")\n",
    "output = graph.invoke(DataClassState(name=\"Apoorv\", game=\"cricket\"))\n",
    "print(output)\n",
    "\n",
    "# --- Run 1: With game='cricket' ---\n",
    "# Play game node has been called\n",
    "# Badminton node has been called\n",
    "# {'name': 'Apoorv', 'game': 'badminton'}\n",
    "\n",
    "# Option 2: Run with random game selection\n",
    "print(\"\\n--- Run 2: Random game selection ---\")\n",
    "output = graph.invoke(DataClassState(name=\"Apoorv\", game=\"badminton\"))  # game gets overwritten\n",
    "print(output)\n",
    "# --- Run 2: Random game selection ---\n",
    "# Play game node has been called\n",
    "# Cricket node has been called\n",
    "# {'name': 'Apoorv', 'game': 'cricket'}\n",
    "\n",
    "# Option 3: Invalid type (runtime type not enforced)\n",
    "print(\"\\n--- Run 3: Invalid name (int) ---\")\n",
    "output = graph.invoke(DataClassState(name=123, game=\"cricket\"))\n",
    "print(output)\n",
    "# --- Run 3: Invalid name (int) ---\n",
    "# Play game node has been called\n",
    "# Cricket node has been called\n",
    "# {'name': 123, 'game': 'cricket'}"
   ]
  }
 ],
 "metadata": {
  "kernelspec": {
   "display_name": "venv",
   "language": "python",
   "name": "python3"
  },
  "language_info": {
   "codemirror_mode": {
    "name": "ipython",
    "version": 3
   },
   "file_extension": ".py",
   "mimetype": "text/x-python",
   "name": "python",
   "nbconvert_exporter": "python",
   "pygments_lexer": "ipython3",
   "version": "3.12.11"
  }
 },
 "nbformat": 4,
 "nbformat_minor": 5
}
