{
 "cells": [
  {
   "cell_type": "markdown",
   "id": "c52876ea",
   "metadata": {},
   "source": [
    "### Pydantic Basics: Creating and Using Models\n",
    "\n",
    "Pydantic models are the foundation of data validation in Python. They use **Python type annotations** to define the structure and validate data at runtime. Here's a detailed exploration of basic model creation with several examples."
   ]
  },
  {
   "cell_type": "code",
   "execution_count": 9,
   "id": "d8194518",
   "metadata": {},
   "outputs": [
    {
     "name": "stdout",
     "output_type": "stream",
     "text": [
      "name='Apoorv Sahu' age=30 city='New York'\n"
     ]
    }
   ],
   "source": [
    "from pydantic import BaseModel\n",
    "from dataclasses import dataclass\n",
    "class Person(BaseModel):\n",
    "    name: str\n",
    "    age: int\n",
    "    city: str\n",
    "\n",
    "person = Person(name=\"Apoorv Sahu\", age=30, city=\"New York\")\n",
    "print(person)\n",
    "# name='Apoorv Sahu' age=30 city='New York'\n",
    "\n",
    "# person2 = Person(name=\"John Doe\", age=25, city=22)\n",
    "# print(person2)\n",
    "# pydantic will raise validation error because age should be int and city should be str\n",
    "\n",
    "\n",
    "\n",
    "\n"
   ]
  },
  {
   "cell_type": "code",
   "execution_count": 8,
   "id": "bf675166",
   "metadata": {},
   "outputs": [
    {
     "name": "stdout",
     "output_type": "stream",
     "text": [
      "Person1 Person(name='Apoorv Sahu', age=30, city=22)\n"
     ]
    }
   ],
   "source": [
    "#Another way to create Model\n",
    "@dataclass\n",
    "class Person():\n",
    "    name: str\n",
    "    age: int\n",
    "    city: str   \n",
    "\n",
    "person1 = Person(name=\"Apoorv Sahu\", age=30, city=22)\n",
    "print(\"Person1\", person1)\n",
    "# Person1 Person(name='Apoorv Sahu', age=30, city=22) # Here data validation is not happening of dataclass"
   ]
  },
  {
   "cell_type": "code",
   "execution_count": null,
   "id": "bf7d61e9",
   "metadata": {},
   "outputs": [
    {
     "name": "stdout",
     "output_type": "stream",
     "text": [
      "id=1 name='John' department='IT' salary=None is_active=True\n"
     ]
    }
   ],
   "source": [
    "# ✅ STEP 4: Optional Fields\n",
    "from typing import Optional\n",
    "\n",
    "class Employee(BaseModel):\n",
    "    id: int\n",
    "    name: str\n",
    "    department: str\n",
    "    salary: Optional[float] = None\n",
    "    is_active: Optional[bool] = True\n",
    "# ✅ Explanation:\n",
    "# •\tOptional[...] means the field is not required.\n",
    "# •\tIf you don’t provide a value, the default is used.\n",
    "# •\tsalary is optional → defaults to None.\n",
    "# •\tis_active is optional → defaults to True.\n",
    "emp1 = Employee(id=1, name=\"John\", department=\"IT\")\n",
    "print(emp1)\n",
    "# id=1 name='John' department='IT' salary=None is_active=True\n"
   ]
  },
  {
   "cell_type": "code",
   "execution_count": null,
   "id": "cc54a4af",
   "metadata": {},
   "outputs": [
    {
     "name": "stdout",
     "output_type": "stream",
     "text": [
      "room_number='A101' students=['Alice', 'Bob', 'Charlie'] capacity=30\n",
      "1 validation error for Classroom\n",
      "students.1\n",
      "  Input should be a valid string [type=string_type, input_value=123, input_type=int]\n",
      "    For further information visit https://errors.pydantic.dev/2.11/v/string_type\n"
     ]
    }
   ],
   "source": [
    "# ✅ STEP 5: List of Strings Validation\n",
    "from typing import List\n",
    "from pydantic import BaseModel\n",
    "class Classroom(BaseModel):\n",
    "    room_number: str\n",
    "    students: List[str]\n",
    "    capacity: int\n",
    "\n",
    "classroom = Classroom(\n",
    "    room_number=\"A101\",\n",
    "    students=(\"Alice\", \"Bob\", \"Charlie\"),\n",
    "    capacity=30\n",
    ")\n",
    "print(classroom)\n",
    "#room_number='A101' students=['Alice', 'Bob', 'Charlie'] capacity=30\n",
    "\n",
    "# ✅ Explanation:\n",
    "# •\tstudents: List[str] means it expects a list of strings.\n",
    "# •\tA tuple like (\"Alice\", \"Bob\", \"Charlie\") works because it's close to a list.\n",
    "try:\n",
    "    invalid_val = Classroom(room_number=\"A1\", students=[\"Krish\", 123], capacity=30)\n",
    "except ValueError as e:\n",
    "    print(e)\n",
    "# •\tThis fails because 123 is not a string — validation error.\n",
    "\n",
    "# Output:\n",
    "# 1 validation error for Classroom\n",
    "# students.1\n",
    "#   Input should be a valid string [type=string_type, input_value=123, input_type=int]\n",
    "#     For further information visit https://errors.pydantic.dev/2.11/v/string_type"
   ]
  },
  {
   "cell_type": "code",
   "execution_count": null,
   "id": "e54275f5",
   "metadata": {},
   "outputs": [
    {
     "name": "stdout",
     "output_type": "stream",
     "text": [
      "customer_id=1 name='Emma' address=Address(street='123 Main St', city='Boston', zip_code=2108)\n"
     ]
    }
   ],
   "source": [
    "# ✅ STEP 6: Nested Models\n",
    "from pydantic import BaseModel\n",
    "class Address(BaseModel):\n",
    "    street: str\n",
    "    city: str\n",
    "    zip_code: int\n",
    "\n",
    "class Customer(BaseModel):\n",
    "    customer_id: int\n",
    "    name: str\n",
    "    address: Address # Nested model\n",
    "customer = Customer(\n",
    "    customer_id=1,\n",
    "    name=\"Emma\",\n",
    "    address={\"street\": \"123 Main St\", \"city\": \"Boston\", \"zip_code\": \"02108\"}\n",
    ")\n",
    "print(customer)\n",
    "# customer_id=1 name='Emma' address=Address(street='123 Main St', city='Boston', zip_code=2108)\n",
    "# ✅ Explanation:\n",
    "# •\tYou can nest models inside other models.\n",
    "# •\tHere, Customer includes an Address.\n",
    "# •\tEven though zip_code is a string in input, Pydantic auto-converts it to int.\n"
   ]
  },
  {
   "cell_type": "code",
   "execution_count": null,
   "id": "8b58a387",
   "metadata": {},
   "outputs": [
    {
     "name": "stdout",
     "output_type": "stream",
     "text": [
      "name='Book' price=10.0 quantity=10\n"
     ]
    }
   ],
   "source": [
    "# ✅ STEP 7: Field Constraints with Field(...)\n",
    "from pydantic import BaseModel, Field\n",
    "\n",
    "class Item(BaseModel):\n",
    "    name: str = Field(min_length=2, max_length=50)\n",
    "    price: float = Field(gt=0, le=1000)  # price must be >0 and <=1000\n",
    "    quantity: int = Field(ge=0)  # quantity must be >=0\n",
    "\n",
    "item = Item(name=\"Book\", price=10, quantity=10)\n",
    "print(item)\n",
    "# name='Book' price=10.0 quantity=10\n",
    "\n",
    "# ✅ Explanation:\n",
    "# •\tField(...) adds rules to each field:\n",
    "# o\tmin_length, max_length for strings.\n",
    "# o\tgt, ge, le, etc. for numbers.\n",
    "# •\tIf data doesn’t follow the rules → validation error.\n"
   ]
  },
  {
   "cell_type": "code",
   "execution_count": null,
   "id": "30c7f2a5",
   "metadata": {},
   "outputs": [
    {
     "name": "stdout",
     "output_type": "stream",
     "text": [
      "username='alice' age=18 email='user@example.com'\n",
      "username='bob' age=25 email='bob@domain.com'\n"
     ]
    }
   ],
   "source": [
    "# ✅ STEP 8: Using Field with Defaults and Descriptions\n",
    "class User(BaseModel):\n",
    "    username: str = Field(..., description=\"Unique username for the user\")\n",
    "    age: int = Field(default=18, description=\"User age, defaults to 18\")\n",
    "    email: str = Field(default_factory=lambda: \"user@example.com\", description=\"Default email address\")\n",
    "user1 = User(username=\"alice\")\n",
    "print(user1)\n",
    "# username='alice' age=18 email='user@example.com'\n",
    "\n",
    "# Output:\n",
    "# username='alice' age=18 email='user@example.com'\n",
    "user2 = User(username=\"bob\", age=25, email=\"bob@domain.com\")\n",
    "print(user2)\n",
    "# username='bob' age=25 email='bob@domain.com'\n",
    "# ✅ Explanation:\n",
    "# •\t... means required field.\n",
    "# •\tdefault sets a default value.\n",
    "# •\tdefault_factory allows generating a default using a function (like lambda).\n"
   ]
  },
  {
   "cell_type": "code",
   "execution_count": null,
   "id": "ebfc7e32",
   "metadata": {},
   "outputs": [
    {
     "name": "stdout",
     "output_type": "stream",
     "text": [
      "{'properties': {'username': {'description': 'Unique username for the user', 'title': 'Username', 'type': 'string'}, 'age': {'default': 18, 'description': 'User age, defaults to 18', 'title': 'Age', 'type': 'integer'}, 'email': {'description': 'Default email address', 'title': 'Email', 'type': 'string'}}, 'required': ['username'], 'title': 'User', 'type': 'object'}\n"
     ]
    }
   ],
   "source": [
    "print(User.model_json_schema())\n",
    "# {'properties': {'username': {'description': 'Unique username for the user', 'title': 'Username', 'type': 'string'}, 'age': {'default': 18, 'description': 'User age, defaults to 18', 'title': 'Age', 'type': 'integer'}, 'email': {'description': 'Default email address', 'title': 'Email', 'type': 'string'}}, 'required': ['username'], 'title': 'User', 'type': 'object'}\n"
   ]
  }
 ],
 "metadata": {
  "kernelspec": {
   "display_name": "venv",
   "language": "python",
   "name": "python3"
  },
  "language_info": {
   "codemirror_mode": {
    "name": "ipython",
    "version": 3
   },
   "file_extension": ".py",
   "mimetype": "text/x-python",
   "name": "python",
   "nbconvert_exporter": "python",
   "pygments_lexer": "ipython3",
   "version": "3.12.11"
  }
 },
 "nbformat": 4,
 "nbformat_minor": 5
}
