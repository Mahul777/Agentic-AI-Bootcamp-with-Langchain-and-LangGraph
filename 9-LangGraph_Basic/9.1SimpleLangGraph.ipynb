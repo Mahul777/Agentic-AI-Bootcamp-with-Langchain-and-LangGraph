{
 "cells": [
  {
   "cell_type": "markdown",
   "id": "322b85df",
   "metadata": {},
   "source": [
    "Build a Simple Workflow or Graph Using LangGraph\n",
    "\n",
    "**State**\n",
    "\n",
    "First, define the **State** of the graph.\n",
    "\n",
    "The **State** schema serves as the input schema for all Nodes and Edges in the graph.\n",
    "\n",
    "Let's use the `TypedDict` class from python's `typing` module as our schema, which provides type hints for the keys."
   ]
  },
  {
   "cell_type": "code",
   "execution_count": null,
   "id": "32e4e7f7",
   "metadata": {},
   "outputs": [
    {
     "data": {
      "image/jpeg": "[encoded data removed]",
      "text/plain": [
       "<IPython.core.display.Image object>"
      ]
     },
     "metadata": {},
     "output_type": "display_data"
    }
   ],
   "source": [
    "# 🟩 Step 1: Define the State\n",
    "# 🧾 We define a class State to store the graph data.\n",
    "# 🛠️ This class uses TypedDict so we can represent data as dictionary (key-value format).\n",
    "\n",
    "from typing_extensions import TypedDict\n",
    "\n",
    "class State(TypedDict):\n",
    "    graph_info: str\n",
    "# 🔸 ✅ Now graph_info can store text like \"I'm planning to play...\" and this info can be updated by each node.\n",
    "\n",
    "# 🟩 Step 2: Define the Nodes\n",
    "\n",
    "# 🧠 Each node is a function that:\n",
    "# Takes state as the first parameter\n",
    "# Returns updated graph_info\n",
    "# ✅ This function adds: \" I am planning to play.\" to whatever was already there in graph_info.\n",
    "# state is used to pass data between nodes.\n",
    "# State is a dictionary that holds the current state of the graph.\n",
    "def start_play(state: State): \n",
    "    print(\"start_play node has been called\")\n",
    "    return {\n",
    "        \"graph_info\": state[\"graph_info\"] + \" I am planning to play.\"\n",
    "    }\n",
    "\n",
    "# 🔸 ➤ Node 2: cricket()\n",
    "def cricket(state: State):\n",
    "    print(\"cricket node has been called\")\n",
    "    return {\n",
    "        \"graph_info\": state[\"graph_info\"] + \" I decided to play cricket.\"\n",
    "    }\n",
    "\n",
    "# 🔸 ➤ Node 3: badminton()\n",
    "def badminton(state: State):\n",
    "    print(\"badminton node has been called\")\n",
    "    return {\n",
    "        \"graph_info\": state[\"graph_info\"] + \" I decided to play badminton.\"\n",
    "    }\n",
    "\n",
    "# 🟩 Step 3: Add Random Decision Logic\n",
    "# 🎲 We create a function to randomly decide whether to go to cricket or badminton node.\n",
    "# ✅ This function randomly returns either \"cricket\" or \"badminton\" based on a random number.\n",
    "import random\n",
    "from typing import Literal\n",
    "\n",
    "def random_play(state: State) -> Literal[\"cricket\", \"badminton\"]:\n",
    "    graph_info = state[\"graph_info\"]\n",
    "    \n",
    "    if random.random() > 0.5:\n",
    "        return \"cricket\"\n",
    "    else:\n",
    "        return \"badminton\"\n",
    "\n",
    "# 🟩 Step 4: Build the Graph\n",
    "\n",
    "# 📦 Image and display ➝ to show the graph diagram.\n",
    "# 📦 StateGraph ➝ main class to create the workflow/graph.\n",
    "# 📦 start and end ➝ represent the start and end points of the graph.\n",
    "from IPython.display import Image, display\n",
    "from langgraph.graph import StateGraph, START,END\n",
    "\n",
    "# 🧱 Step 4.1: Create the graph\n",
    "graph = StateGraph(State)\n",
    "# 🔑 State ➝ This is your state schema (input/output info shared across nodes).\n",
    "# 🏗️ This line sets up the structure where you’ll add your nodes and flow.\n",
    "\n",
    "# 🛠️ Step 4.2: Add nodes to the graph\n",
    "graph.add_node(\"start_play\", start_play)\n",
    "graph.add_node(\"cricket\", cricket)\n",
    "graph.add_node(\"badminton\", badminton)\n",
    "# Each add_node():\n",
    "# 🏷️ First argument = name of the node (you can give any name).\n",
    "# 🧠 Second argument = the function it should run.\n",
    "# 💡 Here, the node name and function name are kept the same to avoid confusion.\n",
    "\n",
    "# 🔗 Step 4.3: Add edges to the graph\n",
    "graph.add_edge(START, \"start_play\")\n",
    "# 🔹 start ➝ is the start node.\n",
    "graph.add_conditional_edges(\"start_play\", random_play)\n",
    "# 💡 random_play returns either \"cricket\" or \"badminton\" as a string.\n",
    "# ⚙️ The framework will automatically call either:\n",
    "# cricket node OR\n",
    "# badminton node based on the value returned.\n",
    "# 🔄 These are called conditional edges (decisions made dynamically).\n",
    "\n",
    "# 🔹 3.3: Connect Final Nodes to end\n",
    "graph.add_edge(\"cricket\", END)\n",
    "graph.add_edge(\"badminton\", END)\n",
    "# 🧪 Step 4: Compile the Graph\n",
    "graph_builder = graph.compile()\n",
    "\n",
    "# 🖼️ Step 5: Visualize the Graph\n",
    "display(Image(graph_builder.get_graph().draw_mermaid_png()))\n"
   ]
  },
  {
   "cell_type": "code",
   "execution_count": null,
   "id": "aeaeaa75",
   "metadata": {},
   "outputs": [
    {
     "name": "stdout",
     "output_type": "stream",
     "text": [
      "start_play node has been called\n",
      "cricket node has been called\n"
     ]
    },
    {
     "data": {
      "text/plain": [
       "{'graph_info': 'Hi, my name is Apoorv.  I am planning to play. I decided to play cricket.'}"
      ]
     },
     "execution_count": 10,
     "metadata": {},
     "output_type": "execute_result"
    }
   ],
   "source": [
    "# 🚀 Step 6: Invoke the Graph (Run the Workflow)\n",
    "graph_builder.invoke({\"graph_info\": \"Hi, my name is Apoorv. \"})\n",
    "# {'graph_info': 'Hi, my name is Apoorv.  I am planning to play. I decided to play cricket.'}\n",
    "\n",
    "# ⚙️ The graph will:\n",
    "# Start at start_play, add \"I am planning to play\"\n",
    "# Call random_play() and decide between cricket/badminton\n",
    "# Append the selected game and finish the execution\n",
    "# 🖨️ You’ll also see debug prints like:\n",
    "# Start play node has been called\n",
    "# Cricket node has been called or Badminton node has been called"
   ]
  }
 ],
 "metadata": {
  "kernelspec": {
   "display_name": "venv",
   "language": "python",
   "name": "python3"
  },
  "language_info": {
   "codemirror_mode": {
    "name": "ipython",
    "version": 3
   },
   "file_extension": ".py",
   "mimetype": "text/x-python",
   "name": "python",
   "nbconvert_exporter": "python",
   "pygments_lexer": "ipython3",
   "version": "3.12.11"
  }
 },
 "nbformat": 4,
 "nbformat_minor": 5
}
