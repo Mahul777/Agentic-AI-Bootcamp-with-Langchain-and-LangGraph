{
 "cells": [
  {
   "cell_type": "markdown",
   "id": "3366e461",
   "metadata": {},
   "source": [
    "### ✅ Objective\n",
    "\n",
    "We will implement a chatbot using LangGraph, named Super Bot, that:\n",
    "\n",
    "✔️ Uses both OpenAI (paid) and Groq (open-source) models\n",
    "\n",
    "✔️ Keeps track of conversation state\n",
    "\n",
    "✔️ Uses a graph flow:\n",
    "\n",
    "Start ➡️ Super Bot Node ➡️ End\n",
    "\n",
    "✔️ Stores messages in a list using a state schema\n"
   ]
  },
  {
   "cell_type": "code",
   "execution_count": 6,
   "id": "e9f364d6",
   "metadata": {},
   "outputs": [
    {
     "data": {
      "image/jpeg": "[encoded data removed]",
      "text/plain": [
       "<IPython.core.display.Image object>"
      ]
     },
     "metadata": {},
     "output_type": "display_data"
    }
   ],
   "source": [
    "# 🔹 Step 2: Structure of Chatbot\n",
    "# 📌 Chatbot flow:\n",
    "# Start ➡️ Super Bot Node ➡️ End\n",
    "# ✔️ Super Bot → Calls the LLM (OpenAI or Groq)\n",
    "# ✔️ Uses a state to track messages\n",
    "\n",
    "# 1️⃣ Import Required Libraries\n",
    "from typing_extensions import TypedDict\n",
    "from langgraph.graph import StateGraph, START, END\n",
    "from typing import Annotated\n",
    "from langgraph.graph.message import add_messages\n",
    "\n",
    "# ✅ What this does:\n",
    "# •\tTypedDict: Used to define the shape of our input state.\n",
    "# •\tStateGraph: Main class to build our workflow (graph).\n",
    "# •\tSTART / END: Special markers to show where the graph starts and ends.\n",
    "# •\tAnnotated + add_messages: Helps combine and manage messages in the graph.\n",
    "\n",
    "# 2️⃣ Define the State Schema\n",
    "class State(TypedDict):\n",
    "    messages: Annotated[list, add_messages]\n",
    "# ✅ What this means:\n",
    "# •\tWe define that every input (state) must have a key called messages.\n",
    "# •\tmessages is a list (of past or current messages).\n",
    "# •\tadd_messages will help in automatically appending new messages to old ones.\n",
    "# 📌 add_messages is a reducer → it appends messages into the chat history\n",
    "# ✔️ Annotated: Helps LangGraph understand message format\n",
    "\n",
    "# 3️⃣ Load API Keys for LLMs\n",
    "import os\n",
    "from dotenv import load_dotenv\n",
    "load_dotenv()\n",
    "\n",
    "os.environ[\"OPENAI_API_KEY\"] = os.getenv(\"OPENAI_API_KEY\")\n",
    "os.environ[\"GROQ_API_KEY\"] = os.getenv(\"GROQ_API_KEY\")\n",
    "\n",
    "# 4️⃣ Initialize LLMs\n",
    "# from langchain_openai import ChatOpenAI\n",
    "# llm = ChatOpenAI(model=\"gpt-4o\")\n",
    "# llm.invoke(\"Hello\")\n",
    "\n",
    "from langchain_groq import ChatGroq\n",
    "llm_groq = ChatGroq(model=\"gemma2-9b-it\")\n",
    "llm_groq.invoke(\"Hey I am Apoorv and I like to play badminton\")\n",
    "# AIMessage(content=\"Hi Apoorv, it's nice to meet you! \\n\\nBadminton is a great sport. Do you play competitively or just for fun? \\n\\nWhat's your favorite thing about playing badminton? 😊\\n\\n\", response_metadata={'token_usage': {'completion_tokens': 48, 'prompt_tokens': 21, 'total_tokens': 69, 'completion_time': 0.087272727, 'prompt_time': 0.00132588, 'queue_time': 0.250263509, 'total_time': 0.088598607}, 'model_name': 'gemma2-9b-it', 'system_fingerprint': 'fp_10c08bf97d', 'finish_reason': 'stop', 'logprobs': None}, id='run-03d3117f-ba20-4e97-93c3-dd71ff79e6ef-0', usage_metadata={'input_tokens': 21, 'output_tokens': 48, 'total_tokens': 69})\n",
    "\n",
    "\n",
    "# 5️⃣ Define the Node Function: SuperBot 🤖\n",
    "def superbot(state: State):\n",
    "    return {\"messages\": [llm_groq.invoke(state['messages'])]}\n",
    "# ✅ What this means:\n",
    "\n",
    "# This is the function that the graph node will run.\n",
    "# It:\n",
    "# Takes the input state (which includes the user’s message).\n",
    "# Sends the message to Groq’s model.\n",
    "# Returns the response inside a messages list.\n",
    "# ✅ This is our chatbot brain node.\n",
    "\n",
    "# 6️⃣ Create the Graph\n",
    "graph = StateGraph(State)\n",
    "# ✅ What this means:\n",
    "# We're creating a graph that works based on the State structure we defined.\n",
    "# This graph will define the full workflow.\n",
    "\n",
    "# 7️⃣ Add Node to the Graph\n",
    "graph.add_node(\"SuperBot\", superbot)\n",
    "# ✅ What this means:\n",
    "# We're adding one node to the graph.\n",
    "# Node name is \"SuperBot\", and it runs the superbot() function.\n",
    "\n",
    "# 8️⃣ Connect the Nodes (Add Edges)\n",
    "graph.add_edge(START, \"SuperBot\")\n",
    "graph.add_edge(\"SuperBot\", END)\n",
    "\n",
    "# ✅ What this means:\n",
    "# Tells the graph:\n",
    "# Start from START\n",
    "# Then go to SuperBot\n",
    "# Then go to END\n",
    "\n",
    "# 9️⃣ Compile the Graph\n",
    "graph_builder = graph.compile()\n",
    "# ✅ What this means:\n",
    "# This builds the graph so it's ready to be used.\n",
    "# Think of this like “finishing the wiring of the flow.”\n",
    "\n",
    "# 🔟 Display the Graph Visually\n",
    "from IPython.display import Image, display\n",
    "display(Image(graph_builder.get_graph().draw_mermaid_png()))\n",
    "# ✅ What this means:\n",
    "# Shows a visual diagram of your graph using Mermaid syntax.\n",
    "# Helps you see your flow: Start → SuperBot → End.\n"
   ]
  },
  {
   "cell_type": "code",
   "execution_count": null,
   "id": "ef9ea20a",
   "metadata": {},
   "outputs": [
    {
     "name": "stdout",
     "output_type": "stream",
     "text": [
      "{'messages': [HumanMessage(content='Hello My name is Apoorv and I like to play badminton', id='aa9a83cf-4c01-4550-adf9-24c58e0a3746')]}\n",
      "{'messages': [HumanMessage(content='Hello My name is Apoorv and I like to play badminton', id='aa9a83cf-4c01-4550-adf9-24c58e0a3746'), AIMessage(content=\"Hello Apoorv,\\n\\nIt's nice to meet you! Badminton is a great sport.  \\n\\nDo you play competitively or just for fun? What's your favorite thing about badminton? 🏸 😊 \\n\", response_metadata={'token_usage': {'completion_tokens': 47, 'prompt_tokens': 22, 'total_tokens': 69, 'completion_time': 0.085454545, 'prompt_time': 0.00132383, 'queue_time': 0.253713829, 'total_time': 0.086778375}, 'model_name': 'gemma2-9b-it', 'system_fingerprint': 'fp_10c08bf97d', 'finish_reason': 'stop', 'logprobs': None}, id='run-42efc08c-00d8-44df-9c35-003babd216c9-0', usage_metadata={'input_tokens': 22, 'output_tokens': 47, 'total_tokens': 69})]}\n"
     ]
    }
   ],
   "source": [
    "# # 1️⃣1️⃣ Run (Invoke) the Graph\n",
    "graph_builder.invoke({'messages': \"Hi, My name is Apoorv And I like to play badminton\"})\n",
    "# {'messages': [HumanMessage(content='Hi, My name is Apoorv And I like to play badminton', id='407f6edb-56a4-49f8-9b5e-417d13d5859a'),\n",
    "#  AIMessage(content=\"Hi Apoorv, it's nice to meet you! \\n\\nBadminton is a great sport.  Do you play competitively or just for fun? 🏸  What's your favorite shot?  \\n\\n\", response_metadata={'token_usage': {'completion_tokens': 47, 'prompt_tokens': 23, 'total_tokens': 70, 'completion_time': 0.085454545, 'prompt_time': 0.00133364, 'queue_time': 0.250920629, 'total_time': 0.086788185}, 'model_name': 'gemma2-9b-it', 'system_fingerprint': 'fp_10c08bf97d', 'finish_reason': 'stop', 'logprobs': None}, id='run-f1994a6c-3ace-45dd-a6b0-a7dd4e5839e2-0', usage_metadata={'input_tokens': 23, 'output_tokens': 47, 'total_tokens': 70})]}\n",
    "\n",
    "# ✅ What this means:\n",
    "# This starts the flow:\n",
    "# Input: Message from the user.\n",
    "# Goes to SuperBot → sends to LLM → gets a response.\n",
    "# Ends the flow.\n",
    "# Returns the chatbot’s reply.\n",
    "\n",
    "# 1️⃣2️⃣ Stream the Responses (Optional)\n",
    "for event in graph_builder.stream({\"messages\": \"Hello My name is Apoorv and I like to play badminton\"},stream_mode=\"values\"):\n",
    "    print(event)\n",
    "# {'messages': [HumanMessage(content='Hello My name is Apoorv and I like to play badminton', id='aa9a83cf-4c01-4550-adf9-24c58e0a3746')]}\n",
    "# {'messages': [HumanMessage(content='Hello My name is Apoorv and I like to play badminton', id='aa9a83cf-4c01-4550-adf9-24c58e0a3746'), AIMessage(content=\"Hello Apoorv,\\n\\nIt's nice to meet you! Badminton is a great sport.  \\n\\nDo you play competitively or just for fun? What's your favorite thing about badminton? 🏸 😊 \\n\", response_metadata={'token_usage': {'completion_tokens': 47, 'prompt_tokens': 22, 'total_tokens': 69, 'completion_time': 0.085454545, 'prompt_time': 0.00132383, 'queue_time': 0.253713829, 'total_time': 0.086778375}, 'model_name': 'gemma2-9b-it', 'system_fingerprint': 'fp_10c08bf97d', 'finish_reason': 'stop', 'logprobs': None}, id='run-42efc08c-00d8-44df-9c35-003babd216c9-0', usage_metadata={'input_tokens': 22, 'output_tokens': 47, 'total_tokens': 69})]}\n",
    "\n",
    "# ✅ What this means:\n",
    "# This shows each step as it's happening in real-time.\n",
    "# You can see what happens at each node, useful for debugging.\n"
   ]
  }
 ],
 "metadata": {
  "kernelspec": {
   "display_name": "venv",
   "language": "python",
   "name": "python3"
  },
  "language_info": {
   "codemirror_mode": {
    "name": "ipython",
    "version": 3
   },
   "file_extension": ".py",
   "mimetype": "text/x-python",
   "name": "python",
   "nbconvert_exporter": "python",
   "pygments_lexer": "ipython3",
   "version": "3.12.11"
  }
 },
 "nbformat": 4,
 "nbformat_minor": 5
}
