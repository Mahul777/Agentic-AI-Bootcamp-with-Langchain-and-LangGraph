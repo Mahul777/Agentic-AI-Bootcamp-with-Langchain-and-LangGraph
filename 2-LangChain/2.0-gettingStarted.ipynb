{
 "cells": [
  {
   "cell_type": "markdown",
   "id": "a14c92be",
   "metadata": {},
   "source": [
    "### Getting started With LangChain And Open AI\n",
    "\n",
    "In this quickstart we'll see how to:\n",
    "\n",
    "* Get setup with **LangChain**, **LangSmith** and **LangServe**\n",
    "* Use the most basic and common components of LangChain: **prompt templates**, **models**, and **output parsers**.\n",
    "* Build a simple application with LangChain\n",
    "* Trace your application with LangSmith\n",
    "* Serve your application with LangServe"
   ]
  },
  {
   "cell_type": "code",
   "execution_count": null,
   "id": "75f48c3c",
   "metadata": {},
   "outputs": [],
   "source": []
  }
 ],
 "metadata": {
  "kernelspec": {
   "display_name": "venv",
   "language": "python",
   "name": "python3"
  },
  "language_info": {
   "name": "python",
   "version": "3.12.11"
  }
 },
 "nbformat": 4,
 "nbformat_minor": 5
}
