{
 "cells": [
  {
   "cell_type": "markdown",
   "id": "f03d6111",
   "metadata": {},
   "source": [
    "### How to split by character-Character Text Splitter\n",
    "\n",
    "This is the simplest method. This splits based on a given character sequence, which defaults to `\"\\n\\n\"`. Chunk length is measured by number of characters.\n",
    "\n",
    "1. How the text is split: by single character separator.\n",
    "2. How the chunk size is measured: by number of characters."
   ]
  },
  {
   "cell_type": "markdown",
   "id": "fd6c788f",
   "metadata": {},
   "source": [
    "### 1. Fixed-size chunking\n",
    "\n",
    "Data is split into equal-sized chunks (e.g., 512 characters or 100 tokens).\n",
    "\n",
    "Common in deep learning models for input limitations.\n",
    "\n",
    "Used in: Transformers, BERT, GPT, etc."
   ]
  },
  {
   "cell_type": "code",
   "execution_count": null,
   "id": "2446fe02",
   "metadata": {},
   "outputs": [
    {
     "name": "stderr",
     "output_type": "stream",
     "text": [
      "Created a chunk of size 668, which is longer than the specified 500\n",
      "Created a chunk of size 982, which is longer than the specified 500\n",
      "Created a chunk of size 789, which is longer than the specified 500\n"
     ]
    },
    {
     "name": "stdout",
     "output_type": "stream",
     "text": [
      "Total Chunks: 6\n",
      "page_content='The world must be made safe for democracy. Its peace must be planted upon the tested foundations of political liberty. We have no selfish ends to serve. We desire no conquest, no dominion. We seek no indemnities for ourselves, no material compensation for the sacrifices we shall freely make. We are but one of the champions of the rights of mankind. We shall be satisfied when those rights have been made as secure as the faith and the freedom of nations can make them.' metadata={'source': 'speech.txt'}\n"
     ]
    }
   ],
   "source": [
    "#📥 Step 1: Load a Text File using LangChain's TextLoader\n",
    "from langchain_community.document_loaders import TextLoader\n",
    "#👉 You're importing a tool called TextLoader from LangChain.\n",
    "#This helps you read .txt files easily.\n",
    "\n",
    "loader = TextLoader('speech.txt')\n",
    "docs = loader.load()\n",
    "docs\n",
    "# [Document(metadata={'source': 'speech.txt'}, page_content='The world must be made safe for democracy. Its peace must be planted upon the tested foundations of political liberty. We have no selfish ends to serve. We desire no conquest, no dominion. We seek no indemnities for ourselves, no material compensation for the sacrifices we shall freely make. We are but one of the champions of the rights of mankind. We shall be satisfied when those rights have been made as secure as the faith and the freedom of nations can make them.\\n\\nJust because we fight without rancor and without selfish object, seeking nothing for ourselves but what we shall wish to share with all free peoples, we shall, I feel confident, conduct our operations as belligerents without passion and ourselves observe with proud punctilio the principles of right and of fair play we profess to be fighting for.\\n\\n…\\n\\nIt will be all the easier for us to conduct ourselves as belligerents in a high spirit of right and fairness because we act without animus, not in enmity toward a people or with the desire to bring any injury or disadvantage upon them, but only in armed opposition to an irresponsible government which has thrown aside all considerations of humanity and of right and is running amuck. We are, let me say again, the sincere friends of the German people, and shall desire nothing so much as the early reestablishment of intimate relations of mutual advantage between us—however hard it may be for them, for the time being, to believe that this is spoken from our hearts.\\n\\nWe have borne with their present government through all these bitter months because of that friendship—exercising a patience and forbearance which would otherwise have been impossible. We shall, happily, still have an opportunity to prove that friendship in our daily attitude and actions toward the millions of men and women of German birth and native sympathy who live among us and share our life, and we shall be proud to prove it toward all who are in fact loyal to their neighbors and to the government in the hour of test. They are, most of them, as true and loyal Americans as if they had never known any other fealty or allegiance. They will be prompt to stand with us in rebuking and restraining the few who may be of a different mind and purpose. If there should be disloyalty, it will be dealt with with a firm hand of stern repression; but, if it lifts its head at all, it will lift it only here and there and without countenance except from a lawless and malignant few.\\n\\nIt is a distressing and oppressive duty, gentlemen of the Congress, which I have performed in thus addressing you. There are, it may be, many months of fiery trial and sacrifice ahead of us. It is a fearful thing to lead this great peaceful people into war, into the most terrible and disastrous of all wars, civilization itself seeming to be in the balance. But the right is more precious than peace, and we shall fight for the things which we have always carried nearest our hearts—for democracy, for the right of those who submit to authority to have a voice in their own governments, for the rights and liberties of small nations, for a universal dominion of right by such a concert of free peoples as shall bring peace and safety to all nations and make the world itself at last free.\\n\\nTo such a task we can dedicate our lives and our fortunes, everything that we are and everything that we have, with the pride of those who know that the day has come when America is privileged to spend her blood and her might for the principles that gave her birth and happiness and the peace which she has treasured. God helping her, she can do no other.')]\n",
    "\n",
    "# 👉 This reads the speech.txt file:\n",
    "# •\tloader = TextLoader('speech.txt') creates the loader for the file.\n",
    "# •\tloader.load() reads the file and returns the content in a document format (usually as a list with one document inside).\n",
    "# •\tdocs now holds the entire content of the file.\n",
    "# ✅ Example:\n",
    "# If speech.txt had a speech in it, now docs contains the full speech text.\n",
    "\n",
    "from langchain.text_splitter import CharacterTextSplitter\n",
    "\n",
    "# Create the splitter with your desired chunk size and overlap\n",
    "text_splitter = CharacterTextSplitter(\n",
    "    separator=\"\\n\",        # you can also use \"\" or \" \" depending on your formatting\n",
    "    chunk_size=500,        # number of characters per chunk\n",
    "    chunk_overlap=50       # overlap between chunks to preserve context\n",
    ")\n",
    "\n",
    "text_splitter\n",
    "# <langchain_text_splitters.character.CharacterTextSplitter at 0x17ea365f230>\n",
    "\n",
    "# Apply the splitter to your documents\n",
    "chunks = text_splitter.split_documents(docs)\n",
    "\n",
    "# Let's see how many chunks we got and peek at the first one\n",
    "print(f\"Total Chunks: {len(chunks)}\")\n",
    "# Total Chunks: 6\n",
    "print(chunks[0])\n",
    "#page_content='The world must be made safe for democracy. Its peace must be planted upon the tested foundations of political liberty. We have no selfish ends to serve. We desire no conquest, no dominion. We seek no indemnities for ourselves, no material compensation for the sacrifices we shall freely make. We are but one of the champions of the rights of mankind. We shall be satisfied when those rights have been made as secure as the faith and the freedom of nations can make them.' metadata={'source': 'speech.txt'}\n",
    "# Created a chunk of size 668, which is longer than the specified 500\n",
    "# Created a chunk of size 982, which is longer than the specified 500\n",
    "# Created a chunk of size 789, which is longer than the specified 500\n"
   ]
  },
  {
   "cell_type": "markdown",
   "id": "54df90fd",
   "metadata": {},
   "source": [
    "### 🔹 2. Sliding window chunking\n",
    "\n",
    "Chunks are created with overlapping windows to preserve context.\n",
    "\n",
    "Example: 100-token chunks with a 20-token overlap.\n",
    "\n",
    "Used in: Long document processing."
   ]
  },
  {
   "cell_type": "code",
   "execution_count": null,
   "id": "e420d4a6",
   "metadata": {},
   "outputs": [
    {
     "name": "stderr",
     "output_type": "stream",
     "text": [
      "Created a chunk of size 668, which is longer than the specified 500\n",
      "Created a chunk of size 982, which is longer than the specified 500\n",
      "Created a chunk of size 789, which is longer than the specified 500\n"
     ]
    },
    {
     "name": "stdout",
     "output_type": "stream",
     "text": [
      "Total Sliding Window Chunks: 6\n",
      "The world must be made safe for democracy. Its peace must be planted upon the tested foundations of political liberty. We have no selfish ends to serve. We desire no conquest, no dominion. We seek no indemnities for ourselves, no material compensation for the sacrifices we shall freely make. We are but one of the champions of the rights of mankind. We shall be satisfied when those rights have been made as secure as the faith and the freedom of nations can make them.\n"
     ]
    }
   ],
   "source": [
    "#📥 Step 1: Load a Text File using LangChain's TextLoader\n",
    "from langchain_community.document_loaders import TextLoader\n",
    "#👉 You're importing a tool called TextLoader from LangChain.\n",
    "#This helps you read .txt files easily.\n",
    "\n",
    "loader = TextLoader('speech.txt')\n",
    "docs = loader.load()\n",
    "docs\n",
    "# [Document(metadata={'source': 'speech.txt'}, page_content='The world must be made safe for democracy. Its peace must be planted upon the tested foundations of political liberty. We have no selfish ends to serve. We desire no conquest, no dominion. We seek no indemnities for ourselves, no material compensation for the sacrifices we shall freely make. We are but one of the champions of the rights of mankind. We shall be satisfied when those rights have been made as secure as the faith and the freedom of nations can make them.\\n\\nJust because we fight without rancor and without selfish object, seeking nothing for ourselves but what we shall wish to share with all free peoples, we shall, I feel confident, conduct our operations as belligerents without passion and ourselves observe with proud punctilio the principles of right and of fair play we profess to be fighting for.\\n\\n…\\n\\nIt will be all the easier for us to conduct ourselves as belligerents in a high spirit of right and fairness because we act without animus, not in enmity toward a people or with the desire to bring any injury or disadvantage upon them, but only in armed opposition to an irresponsible government which has thrown aside all considerations of humanity and of right and is running amuck. We are, let me say again, the sincere friends of the German people, and shall desire nothing so much as the early reestablishment of intimate relations of mutual advantage between us—however hard it may be for them, for the time being, to believe that this is spoken from our hearts.\\n\\nWe have borne with their present government through all these bitter months because of that friendship—exercising a patience and forbearance which would otherwise have been impossible. We shall, happily, still have an opportunity to prove that friendship in our daily attitude and actions toward the millions of men and women of German birth and native sympathy who live among us and share our life, and we shall be proud to prove it toward all who are in fact loyal to their neighbors and to the government in the hour of test. They are, most of them, as true and loyal Americans as if they had never known any other fealty or allegiance. They will be prompt to stand with us in rebuking and restraining the few who may be of a different mind and purpose. If there should be disloyalty, it will be dealt with with a firm hand of stern repression; but, if it lifts its head at all, it will lift it only here and there and without countenance except from a lawless and malignant few.\\n\\nIt is a distressing and oppressive duty, gentlemen of the Congress, which I have performed in thus addressing you. There are, it may be, many months of fiery trial and sacrifice ahead of us. It is a fearful thing to lead this great peaceful people into war, into the most terrible and disastrous of all wars, civilization itself seeming to be in the balance. But the right is more precious than peace, and we shall fight for the things which we have always carried nearest our hearts—for democracy, for the right of those who submit to authority to have a voice in their own governments, for the rights and liberties of small nations, for a universal dominion of right by such a concert of free peoples as shall bring peace and safety to all nations and make the world itself at last free.\\n\\nTo such a task we can dedicate our lives and our fortunes, everything that we are and everything that we have, with the pride of those who know that the day has come when America is privileged to spend her blood and her might for the principles that gave her birth and happiness and the peace which she has treasured. God helping her, she can do no other.')]\n",
    "\n",
    "# 👉 This reads the speech.txt file:\n",
    "# •\tloader = TextLoader('speech.txt') creates the loader for the file.\n",
    "# •\tloader.load() reads the file and returns the content in a document format (usually as a list with one document inside).\n",
    "# •\tdocs now holds the entire content of the file.\n",
    "# ✅ Example:\n",
    "# If speech.txt had a speech in it, now docs contains the full speech text.\n",
    "\n",
    "from langchain.text_splitter import CharacterTextSplitter\n",
    "\n",
    "# Sliding window parameters:\n",
    "chunk_size = 500          # Total size of each chunk\n",
    "chunk_overlap = 450       # Amount of overlap — window slides by 50 chars\n",
    "\n",
    "# Instantiate the text splitter\n",
    "text_splitter = CharacterTextSplitter(\n",
    "    separator=\"\\n\",\n",
    "    chunk_size=chunk_size,\n",
    "    chunk_overlap=chunk_overlap\n",
    ")\n",
    "\n",
    "# Apply to the loaded documents\n",
    "sliding_chunks = text_splitter.split_documents(docs)\n",
    "\n",
    "# Example: Output count and first chunk\n",
    "print(f\"Total Sliding Window Chunks: {len(sliding_chunks)}\")\n",
    "print(sliding_chunks[0].page_content)  # Accessing chunk content\n",
    "\n",
    "# Created a chunk of size 668, which is longer than the specified 500\n",
    "# Created a chunk of size 982, which is longer than the specified 500\n",
    "# Created a chunk of size 789, which is longer than the specified 500\n",
    "# Total Sliding Window Chunks: 6\n",
    "# The world must be made safe for democracy. Its peace must be planted upon the tested foundations of political liberty. We have no selfish ends to serve. We desire no conquest, no dominion. We seek no indemnities for ourselves, no material compensation for the sacrifices we shall freely make. We are but one of the champions of the rights of mankind. We shall be satisfied when those rights have been made as secure as the faith and the freedom of nations can make them.\n",
    "    "
   ]
  },
  {
   "cell_type": "markdown",
   "id": "f27b34eb",
   "metadata": {},
   "source": [
    "### 3. Semantic chunking\n",
    "\n",
    "Data is split based on semantic boundaries like sentences, paragraphs, or topic shifts.\n",
    "\n",
    "Often uses NLP tools for sentence boundary detection.\n",
    "\n",
    "Used in: Document summarization, question answering."
   ]
  },
  {
   "cell_type": "code",
   "execution_count": null,
   "id": "48a9a5ba",
   "metadata": {},
   "outputs": [
    {
     "name": "stdout",
     "output_type": "stream",
     "text": [
      "Total Semantic Chunks: 10\n",
      "The world must be made safe for democracy. Its peace must be planted upon the tested foundations of political liberty. We have no selfish ends to serve. We desire no conquest, no dominion. We seek no indemnities for ourselves, no material compensation for the sacrifices we shall freely make. We are but one of the champions of the rights of mankind. We shall be satisfied when those rights have been made as secure as the faith and the freedom of nations can make them.\n"
     ]
    }
   ],
   "source": [
    "#📥 Step 1: Load a Text File using LangChain's TextLoader\n",
    "from langchain_community.document_loaders import TextLoader\n",
    "#👉 You're importing a tool called TextLoader from LangChain.\n",
    "#This helps you read .txt files easily.\n",
    "\n",
    "loader = TextLoader('speech.txt')\n",
    "docs = loader.load()\n",
    "docs\n",
    "# [Document(metadata={'source': 'speech.txt'}, page_content='The world must be made safe for democracy. Its peace must be planted upon the tested foundations of political liberty. We have no selfish ends to serve. We desire no conquest, no dominion. We seek no indemnities for ourselves, no material compensation for the sacrifices we shall freely make. We are but one of the champions of the rights of mankind. We shall be satisfied when those rights have been made as secure as the faith and the freedom of nations can make them.\\n\\nJust because we fight without rancor and without selfish object, seeking nothing for ourselves but what we shall wish to share with all free peoples, we shall, I feel confident, conduct our operations as belligerents without passion and ourselves observe with proud punctilio the principles of right and of fair play we profess to be fighting for.\\n\\n…\\n\\nIt will be all the easier for us to conduct ourselves as belligerents in a high spirit of right and fairness because we act without animus, not in enmity toward a people or with the desire to bring any injury or disadvantage upon them, but only in armed opposition to an irresponsible government which has thrown aside all considerations of humanity and of right and is running amuck. We are, let me say again, the sincere friends of the German people, and shall desire nothing so much as the early reestablishment of intimate relations of mutual advantage between us—however hard it may be for them, for the time being, to believe that this is spoken from our hearts.\\n\\nWe have borne with their present government through all these bitter months because of that friendship—exercising a patience and forbearance which would otherwise have been impossible. We shall, happily, still have an opportunity to prove that friendship in our daily attitude and actions toward the millions of men and women of German birth and native sympathy who live among us and share our life, and we shall be proud to prove it toward all who are in fact loyal to their neighbors and to the government in the hour of test. They are, most of them, as true and loyal Americans as if they had never known any other fealty or allegiance. They will be prompt to stand with us in rebuking and restraining the few who may be of a different mind and purpose. If there should be disloyalty, it will be dealt with with a firm hand of stern repression; but, if it lifts its head at all, it will lift it only here and there and without countenance except from a lawless and malignant few.\\n\\nIt is a distressing and oppressive duty, gentlemen of the Congress, which I have performed in thus addressing you. There are, it may be, many months of fiery trial and sacrifice ahead of us. It is a fearful thing to lead this great peaceful people into war, into the most terrible and disastrous of all wars, civilization itself seeming to be in the balance. But the right is more precious than peace, and we shall fight for the things which we have always carried nearest our hearts—for democracy, for the right of those who submit to authority to have a voice in their own governments, for the rights and liberties of small nations, for a universal dominion of right by such a concert of free peoples as shall bring peace and safety to all nations and make the world itself at last free.\\n\\nTo such a task we can dedicate our lives and our fortunes, everything that we are and everything that we have, with the pride of those who know that the day has come when America is privileged to spend her blood and her might for the principles that gave her birth and happiness and the peace which she has treasured. God helping her, she can do no other.')]\n",
    "\n",
    "# 👉 This reads the speech.txt file:\n",
    "# •\tloader = TextLoader('speech.txt') creates the loader for the file.\n",
    "# •\tloader.load() reads the file and returns the content in a document format (usually as a list with one document inside).\n",
    "# •\tdocs now holds the entire content of the file.\n",
    "# ✅ Example:\n",
    "# If speech.txt had a speech in it, now docs contains the full speech text.\n",
    "\n",
    "from langchain.text_splitter import RecursiveCharacterTextSplitter\n",
    "\n",
    "# Create a recursive splitter that tries to preserve semantic boundaries\n",
    "semantic_splitter = RecursiveCharacterTextSplitter(\n",
    "    chunk_size=500,\n",
    "    chunk_overlap=50,\n",
    "    separators=[\"\\n\\n\", \"\\n\", \".\", \"!\", \"?\", \" \", \"\"]\n",
    ")\n",
    "\n",
    "# Apply it to your documents\n",
    "semantic_chunks = semantic_splitter.split_documents(docs)\n",
    "\n",
    "# Output the number of chunks and preview the first one\n",
    "print(f\"Total Semantic Chunks: {len(semantic_chunks)}\")\n",
    "print(semantic_chunks[0].page_content)\n",
    "# Total Semantic Chunks: 10\n",
    "# The world must be made safe for democracy. Its peace must be planted upon the tested foundations of political liberty. We have no selfish ends to serve. We desire no conquest, no dominion. We seek no indemnities for ourselves, no material compensation for the sacrifices we shall freely make. We are but one of the champions of the rights of mankind. We shall be satisfied when those rights have been made as secure as the faith and the freedom of nations can make them.\n",
    "    \n",
    "    "
   ]
  }
 ],
 "metadata": {
  "kernelspec": {
   "display_name": "venv",
   "language": "python",
   "name": "python3"
  },
  "language_info": {
   "codemirror_mode": {
    "name": "ipython",
    "version": 3
   },
   "file_extension": ".py",
   "mimetype": "text/x-python",
   "name": "python",
   "nbconvert_exporter": "python",
   "pygments_lexer": "ipython3",
   "version": "3.12.11"
  }
 },
 "nbformat": 4,
 "nbformat_minor": 5
}
